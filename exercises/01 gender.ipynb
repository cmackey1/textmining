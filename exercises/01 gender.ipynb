{
 "cells": [
  {
   "cell_type": "markdown",
   "metadata": {},
   "source": [
    "# Parsing gendered text\n",
    "\n",
    "Implement the `parse_gender` function as described on pp. 10-12 of the textbook. Run the function over the three texts indicated below and comment (briefly) on the results.\n",
    "\n",
    "Starter code is included below. When finished, commit your code and issue a pull request to me."
   ]
  },
  {
   "cell_type": "code",
   "execution_count": 1,
   "metadata": {},
   "outputs": [],
   "source": [
    "# Imports\n",
    "import nltk\n",
    "import os\n",
    "from collections import Counter\n",
    "\n",
    "# Variables\n",
    "text_dir = os.path.join('..', 'data', 'texts')\n",
    "texts = [\n",
    "    'A-Alcott-Little_Women-1868-F.txt', # _Little Women_\n",
    "    'A-Twain-Huck_Finn-1885-M.txt',     # _Huck Finn_\n",
    "    'B-Eliot-Middlemarch-1869-F.txt'    # _Middlemarch_\n",
    "]"
   ]
  },
  {
   "cell_type": "code",
   "execution_count": 2,
   "metadata": {},
   "outputs": [],
   "source": [
    "# Word lists\n",
    "MALE = 'male'\n",
    "FEMALE = 'female'\n",
    "UNKNOWN = 'unknown'\n",
    "BOTH = 'both'\n",
    "\n",
    "MALE_WORDS = set([\n",
    "    'guy','spokesman','chairman',\"men's\",'men','him',\"he's\",'his',\n",
    "    'boy','boyfriend','boyfriends','boys','brother','brothers','dad',\n",
    "    'dads','dude','father','fathers','fiance','gentleman','gentlemen',\n",
    "    'god','grandfather','grandpa','grandson','groom','he','himself',\n",
    "    'husband','husbands','king','male','man','mr','nephew','nephews',\n",
    "    'priest','prince','son','sons','uncle','uncles','waiter','widower',\n",
    "    'widowers'\n",
    "])\n",
    "\n",
    "FEMALE_WORDS = set([\n",
    "    'heroine','spokeswoman','chairwoman',\"women's\",'actress','women',\n",
    "    \"she's\",'her','aunt','aunts','bride','daughter','daughters','female',\n",
    "    'fiancee','girl','girlfriend','girlfriends','girls','goddess',\n",
    "    'granddaughter','grandma','grandmother','herself','ladies','lady',\n",
    "    'lady','mom','moms','mother','mothers','mrs','ms','niece','nieces',\n",
    "    'priestess','princess','queens','she','sister','sisters','waitress',\n",
    "    'widow','widows','wife','wives','woman'\n",
    "])"
   ]
  },
  {
   "cell_type": "code",
   "execution_count": 6,
   "metadata": {},
   "outputs": [
    {
     "name": "stdout",
     "output_type": "stream",
     "text": [
      "\n"
     ]
    }
   ],
   "source": [
    "# Your code here ...\n",
    "'''\n",
    "You might want to create your own short text sample for use in developing your code.\n",
    "To be clear, it's fine to copy the textbook code. This exercise is mostly a shakedown to\n",
    "check that your environment is working and that the GitHub Classroom submission system\n",
    "works as intended.\n",
    "'''\n"
   ]
  },
  {
   "cell_type": "code",
   "execution_count": 5,
   "metadata": {},
   "outputs": [
    {
     "name": "stdout",
     "output_type": "stream",
     "text": [
      "<_io.TextIOWrapper name='../data/texts/A-Alcott-Little_Women-1868-F.txt' mode='r' encoding='UTF-8'>\n",
      "<_io.TextIOWrapper name='../data/texts/A-Twain-Huck_Finn-1885-M.txt' mode='r' encoding='UTF-8'>\n",
      "<_io.TextIOWrapper name='../data/texts/B-Eliot-Middlemarch-1869-F.txt' mode='r' encoding='UTF-8'>\n"
     ]
    }
   ],
   "source": [
    "# Run and examine the output\n",
    "for text in texts:\n",
    "    with open(os.path.join(text_dir, text), 'r') as f:\n",
    "        parse_gender(f.read())"
   ]
  },
  {
   "cell_type": "markdown",
   "metadata": {},
   "source": [
    "## Discussion\n",
    "\n",
    "Some very brief discussion here. What do you know about these books? What would you expect their gender breakdown to be? Did the program return results that matched your expectations? If not, what might you change?"
   ]
  },
  {
   "cell_type": "markdown",
   "metadata": {},
   "source": []
  }
 ],
 "metadata": {
  "kernelspec": {
   "display_name": "Python 3",
   "language": "python",
   "name": "python3"
  },
  "language_info": {
   "codemirror_mode": {
    "name": "ipython",
    "version": 3
   },
   "file_extension": ".py",
   "mimetype": "text/x-python",
   "name": "python",
   "nbconvert_exporter": "python",
   "pygments_lexer": "ipython3",
   "version": "3.7.1"
  }
 },
 "nbformat": 4,
 "nbformat_minor": 2
}
